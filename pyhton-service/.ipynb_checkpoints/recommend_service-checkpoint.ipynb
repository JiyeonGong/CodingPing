{
 "cells": [
  {
   "cell_type": "code",
   "execution_count": null,
   "id": "3a8d399e",
   "metadata": {},
   "outputs": [],
   "source": [
    "from flask import Flask, request, jsonify\n",
    "from flask_cors import CORS\n",
    "import json\n",
    "import random\n",
    "\n",
    "app = Flask(__name__)\n",
    "CORS(app)\n",
    "\n",
    "# 1. 데이터 로딩\n",
    "def load_data():\n",
    "    with open('filtered_avg_rating_above_4.3.json', 'r', encoding='utf-8') as f:\n",
    "        animation_data = json.load(f)\n",
    "    with open('mbti_genre_tags.json', 'r', encoding='utf-8') as f:\n",
    "        mbti_data = json.load(f)\n",
    "    return animation_data, mbti_data\n",
    "\n",
    "animation_data, mbti_data = load_data()\n",
    "\n",
    "# 2. 추천 계산 함수\n",
    "def calculate_weights(user_mbti):\n",
    "    preferred_genres = mbti_data.get(user_mbti, {}).get(\"Preferred_Genre\", [])\n",
    "    preferred_tags = mbti_data.get(user_mbti, {}).get(\"Preferred_Tags\", [])\n",
    "\n",
    "    weighted_animations = []\n",
    "    for anime in animation_data:\n",
    "        weight = 0\n",
    "        for genre in anime['genre']:\n",
    "            if genre in preferred_genres:\n",
    "                weight += 3\n",
    "        for tag in anime['tags']:\n",
    "            if tag in preferred_tags:\n",
    "                weight += 1\n",
    "        if anime.get('avg_rating', 0) >= 4.5:\n",
    "            weight += 2\n",
    "        weight += random.uniform(0, 3)\n",
    "        weighted_animations.append((anime, weight))\n",
    "\n",
    "    weighted_animations.sort(key=lambda x: x[1], reverse=True)\n",
    "    return [anime[0] for anime in weighted_animations]\n",
    "\n",
    "# 3. 추천 API 엔드포인트\n",
    "@app.route('/api/recommendations', methods=['POST'])\n",
    "def get_recommendations():\n",
    "    user_mbti = request.json.get('mbti')\n",
    "    if not user_mbti:\n",
    "        return jsonify({\"error\": \"MBTI is required\"}), 400\n",
    "\n",
    "    user_mbti = user_mbti.upper()  # MBTI는 대소문자 구분 없이 처리\n",
    "    recommendations = calculate_weights(user_mbti)\n",
    "    return jsonify(recommendations[:10])\n",
    "\n",
    "if __name__ == '__main__':\n",
    "    app.run(port=5000, debug=True)\n",
    "\n"
   ]
  }
 ],
 "metadata": {
  "kernelspec": {
   "display_name": "Python 3 (ipykernel)",
   "language": "python",
   "name": "python3"
  },
  "language_info": {
   "codemirror_mode": {
    "name": "ipython",
    "version": 3
   },
   "file_extension": ".py",
   "mimetype": "text/x-python",
   "name": "python",
   "nbconvert_exporter": "python",
   "pygments_lexer": "ipython3",
   "version": "3.9.12"
  }
 },
 "nbformat": 4,
 "nbformat_minor": 5
}
